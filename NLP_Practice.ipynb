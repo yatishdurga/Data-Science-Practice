{
  "nbformat": 4,
  "nbformat_minor": 0,
  "metadata": {
    "colab": {
      "provenance": []
    },
    "kernelspec": {
      "name": "python3",
      "display_name": "Python 3"
    },
    "language_info": {
      "name": "python"
    }
  },
  "cells": [
    {
      "cell_type": "code",
      "execution_count": 1,
      "metadata": {
        "colab": {
          "base_uri": "https://localhost:8080/"
        },
        "id": "9TFjGT_xhcNb",
        "outputId": "7321724b-07c8-4ddf-c666-172fa9d2fb9a"
      },
      "outputs": [
        {
          "output_type": "stream",
          "name": "stdout",
          "text": [
            "Requirement already satisfied: nltk in /usr/local/lib/python3.11/dist-packages (3.9.1)\n",
            "Requirement already satisfied: click in /usr/local/lib/python3.11/dist-packages (from nltk) (8.1.8)\n",
            "Requirement already satisfied: joblib in /usr/local/lib/python3.11/dist-packages (from nltk) (1.4.2)\n",
            "Requirement already satisfied: regex>=2021.8.3 in /usr/local/lib/python3.11/dist-packages (from nltk) (2024.11.6)\n",
            "Requirement already satisfied: tqdm in /usr/local/lib/python3.11/dist-packages (from nltk) (4.67.1)\n"
          ]
        }
      ],
      "source": [
        "!pip install nltk"
      ]
    },
    {
      "cell_type": "code",
      "source": [
        "paragraph=\"\"\"\n",
        "Narendra Damodardas Modi[a] (born 17 September 1950)[b] is an Indian politician who has served as the prime minister of India since 2014. Modi was the chief minister of Gujarat from 2001 to 2014 and is the member of parliament (MP) for Varanasi. He is a member of the Bharatiya Janata Party (BJP) and of the Rashtriya Swayamsevak Sangh (RSS), a far-right Hindu nationalist paramilitary volunteer organisation. He is the longest-serving prime minister outside the Indian National Congress.[4]\n",
        "\n",
        "Modi was born and raised in Vadnagar in northeastern Gujarat, where he completed his secondary education. He was introduced to the RSS at the age of eight. At the age of 18, he was married to Jashodaben Modi, whom he abandoned soon after, only publicly acknowledging her four decades later when legally required to do so. Modi became a full-time worker for the RSS in Gujarat in 1971. The RSS assigned him to the BJP in 1985 and he rose through the party hierarchy, becoming general secretary in 1998.[c] In 2001, Modi was appointed chief minister of Gujarat and elected to the legislative assembly soon after. His administration is considered complicit in the 2002 Gujarat riots,[d] and has been criticised for its management of the crisis. According to official records, a little over 1,000 people were killed, three-quarters of whom were Muslim; independent sources estimated 2,000 deaths, mostly Muslim.[13] A Special Investigation Team appointed by the Supreme Court of India in 2012 found no evidence to initiate prosecution proceedings against him.[e] While his policies as chief minister were credited for encouraging economic growth,\n",
        "his administration was criticised for failing to significantly improve health, poverty and education indices in the state.[f]\n",
        "\"\"\""
      ],
      "metadata": {
        "id": "HOTNVY0FjXK8"
      },
      "execution_count": 2,
      "outputs": []
    },
    {
      "cell_type": "code",
      "source": [
        "paragraph"
      ],
      "metadata": {
        "colab": {
          "base_uri": "https://localhost:8080/",
          "height": 143
        },
        "id": "EPi05i-gjdfY",
        "outputId": "6443df62-260f-4815-d345-ba55e5261a0f"
      },
      "execution_count": 3,
      "outputs": [
        {
          "output_type": "execute_result",
          "data": {
            "text/plain": [
              "'\\nNarendra Damodardas Modi[a] (born 17 September 1950)[b] is an Indian politician who has served as the prime minister of India since 2014. Modi was the chief minister of Gujarat from 2001 to 2014 and is the member of parliament (MP) for Varanasi. He is a member of the Bharatiya Janata Party (BJP) and of the Rashtriya Swayamsevak Sangh (RSS), a far-right Hindu nationalist paramilitary volunteer organisation. He is the longest-serving prime minister outside the Indian National Congress.[4]\\n\\nModi was born and raised in Vadnagar in northeastern Gujarat, where he completed his secondary education. He was introduced to the RSS at the age of eight. At the age of 18, he was married to Jashodaben Modi, whom he abandoned soon after, only publicly acknowledging her four decades later when legally required to do so. Modi became a full-time worker for the RSS in Gujarat in 1971. The RSS assigned him to the BJP in 1985 and he rose through the party hierarchy, becoming general secretary in 1998.[c] In 2001, Modi was appointed chief minister of Gujarat and elected to the legislative assembly soon after. His administration is considered complicit in the 2002 Gujarat riots,[d] and has been criticised for its management of the crisis. According to official records, a little over 1,000 people were killed, three-quarters of whom were Muslim; independent sources estimated 2,000 deaths, mostly Muslim.[13] A Special Investigation Team appointed by the Supreme Court of India in 2012 found no evidence to initiate prosecution proceedings against him.[e] While his policies as chief minister were credited for encouraging economic growth, \\nhis administration was criticised for failing to significantly improve health, poverty and education indices in the state.[f]\\n'"
            ],
            "application/vnd.google.colaboratory.intrinsic+json": {
              "type": "string"
            }
          },
          "metadata": {},
          "execution_count": 3
        }
      ]
    },
    {
      "cell_type": "code",
      "source": [
        "import nltk\n",
        "from nltk.stem import PorterStemmer\n",
        "from nltk.corpus import stopwords"
      ],
      "metadata": {
        "id": "0xT3ZNepj-wB"
      },
      "execution_count": 4,
      "outputs": []
    },
    {
      "cell_type": "code",
      "source": [
        "#tokenization -- coverts paragraph  -sentences --to words\n",
        "import nltk\n",
        "from nltk.tokenize import sent_tokenize\n",
        "\n",
        "nltk.download('punkt')\n",
        "nltk.download('punkt_tab') # Download the punkt_tab resource\n",
        "\n",
        "sentences = nltk.tokenize.sent_tokenize(paragraph)\n",
        "sentences\n"
      ],
      "metadata": {
        "colab": {
          "base_uri": "https://localhost:8080/"
        },
        "id": "zs1qAR9ZkUrr",
        "outputId": "a7ad876e-8519-4ecf-e760-395ec7c3beb5"
      },
      "execution_count": 7,
      "outputs": [
        {
          "output_type": "stream",
          "name": "stderr",
          "text": [
            "[nltk_data] Downloading package punkt to /root/nltk_data...\n",
            "[nltk_data]   Package punkt is already up-to-date!\n",
            "[nltk_data] Downloading package punkt_tab to /root/nltk_data...\n",
            "[nltk_data]   Unzipping tokenizers/punkt_tab.zip.\n"
          ]
        },
        {
          "output_type": "execute_result",
          "data": {
            "text/plain": [
              "['\\nNarendra Damodardas Modi[a] (born 17 September 1950)[b] is an Indian politician who has served as the prime minister of India since 2014.',\n",
              " 'Modi was the chief minister of Gujarat from 2001 to 2014 and is the member of parliament (MP) for Varanasi.',\n",
              " 'He is a member of the Bharatiya Janata Party (BJP) and of the Rashtriya Swayamsevak Sangh (RSS), a far-right Hindu nationalist paramilitary volunteer organisation.',\n",
              " 'He is the longest-serving prime minister outside the Indian National Congress.',\n",
              " '[4]\\n\\nModi was born and raised in Vadnagar in northeastern Gujarat, where he completed his secondary education.',\n",
              " 'He was introduced to the RSS at the age of eight.',\n",
              " 'At the age of 18, he was married to Jashodaben Modi, whom he abandoned soon after, only publicly acknowledging her four decades later when legally required to do so.',\n",
              " 'Modi became a full-time worker for the RSS in Gujarat in 1971.',\n",
              " 'The RSS assigned him to the BJP in 1985 and he rose through the party hierarchy, becoming general secretary in 1998.',\n",
              " '[c] In 2001, Modi was appointed chief minister of Gujarat and elected to the legislative assembly soon after.',\n",
              " 'His administration is considered complicit in the 2002 Gujarat riots,[d] and has been criticised for its management of the crisis.',\n",
              " 'According to official records, a little over 1,000 people were killed, three-quarters of whom were Muslim; independent sources estimated 2,000 deaths, mostly Muslim.',\n",
              " '[13] A Special Investigation Team appointed by the Supreme Court of India in 2012 found no evidence to initiate prosecution proceedings against him.',\n",
              " '[e] While his policies as chief minister were credited for encouraging economic growth, \\nhis administration was criticised for failing to significantly improve health, poverty and education indices in the state.',\n",
              " '[f]']"
            ]
          },
          "metadata": {},
          "execution_count": 7
        }
      ]
    },
    {
      "cell_type": "code",
      "source": [
        "stemmer=PorterStemmer()"
      ],
      "metadata": {
        "id": "Kq5O9db8mDnY"
      },
      "execution_count": 9,
      "outputs": []
    },
    {
      "cell_type": "code",
      "source": [
        "stemmer.stem('history')"
      ],
      "metadata": {
        "colab": {
          "base_uri": "https://localhost:8080/",
          "height": 35
        },
        "id": "PkON_gT-mIdf",
        "outputId": "f7c4b540-f9ff-4a90-c1a2-20fafabac4c3"
      },
      "execution_count": 10,
      "outputs": [
        {
          "output_type": "execute_result",
          "data": {
            "text/plain": [
              "'histori'"
            ],
            "application/vnd.google.colaboratory.intrinsic+json": {
              "type": "string"
            }
          },
          "metadata": {},
          "execution_count": 10
        }
      ]
    },
    {
      "cell_type": "code",
      "source": [
        "from nltk.stem import WordNetLemmatizer\n",
        "nltk.download('wordnet')"
      ],
      "metadata": {
        "colab": {
          "base_uri": "https://localhost:8080/"
        },
        "id": "X9YzoLoimOrF",
        "outputId": "ead1bb81-aea1-4503-9720-d4567eafc894"
      },
      "execution_count": 20,
      "outputs": [
        {
          "output_type": "stream",
          "name": "stderr",
          "text": [
            "[nltk_data] Downloading package wordnet to /root/nltk_data...\n"
          ]
        },
        {
          "output_type": "execute_result",
          "data": {
            "text/plain": [
              "True"
            ]
          },
          "metadata": {},
          "execution_count": 20
        }
      ]
    },
    {
      "cell_type": "code",
      "source": [
        "lemmatizer=WordNetLemmatizer()"
      ],
      "metadata": {
        "id": "0gN8vGB3mZTI"
      },
      "execution_count": 21,
      "outputs": []
    },
    {
      "cell_type": "code",
      "source": [
        "lemmatizer.lemmatize('goes')"
      ],
      "metadata": {
        "colab": {
          "base_uri": "https://localhost:8080/",
          "height": 35
        },
        "id": "sQbXQIl7mkSw",
        "outputId": "3340087f-1470-475e-b868-344ed00e1293"
      },
      "execution_count": 22,
      "outputs": [
        {
          "output_type": "execute_result",
          "data": {
            "text/plain": [
              "'go'"
            ],
            "application/vnd.google.colaboratory.intrinsic+json": {
              "type": "string"
            }
          },
          "metadata": {},
          "execution_count": 22
        }
      ]
    },
    {
      "cell_type": "code",
      "source": [
        "import re\n",
        "len(sentences)"
      ],
      "metadata": {
        "colab": {
          "base_uri": "https://localhost:8080/"
        },
        "id": "orcmC5JGmr16",
        "outputId": "2723a2b6-2caa-4f1e-fb9f-dcff1fcc65a9"
      },
      "execution_count": 24,
      "outputs": [
        {
          "output_type": "execute_result",
          "data": {
            "text/plain": [
              "15"
            ]
          },
          "metadata": {},
          "execution_count": 24
        }
      ]
    },
    {
      "cell_type": "code",
      "source": [
        "corpus=[]\n",
        "for i in range(len(sentences)):\n",
        "  review=re.sub('[^a-zA-Z]',' ',sentences[i])\n",
        "  review=review.lower()\n",
        "  corpus.append(review)"
      ],
      "metadata": {
        "id": "vGZ0TRuJnvLL"
      },
      "execution_count": 28,
      "outputs": []
    },
    {
      "cell_type": "code",
      "source": [
        "corpus"
      ],
      "metadata": {
        "colab": {
          "base_uri": "https://localhost:8080/"
        },
        "id": "4A0CKELcoE1o",
        "outputId": "4716aa03-b98b-4d43-b5b8-2c326084f9d3"
      },
      "execution_count": 29,
      "outputs": [
        {
          "output_type": "execute_result",
          "data": {
            "text/plain": [
              "[' narendra damodardas modi a   born    september       b  is an indian politician who has served as the prime minister of india since      ',\n",
              " 'modi was the chief minister of gujarat from      to      and is the member of parliament  mp  for varanasi ',\n",
              " 'he is a member of the bharatiya janata party  bjp  and of the rashtriya swayamsevak sangh  rss   a far right hindu nationalist paramilitary volunteer organisation ',\n",
              " 'he is the longest serving prime minister outside the indian national congress ',\n",
              " '     modi was born and raised in vadnagar in northeastern gujarat  where he completed his secondary education ',\n",
              " 'he was introduced to the rss at the age of eight ',\n",
              " 'at the age of     he was married to jashodaben modi  whom he abandoned soon after  only publicly acknowledging her four decades later when legally required to do so ',\n",
              " 'modi became a full time worker for the rss in gujarat in      ',\n",
              " 'the rss assigned him to the bjp in      and he rose through the party hierarchy  becoming general secretary in      ',\n",
              " ' c  in       modi was appointed chief minister of gujarat and elected to the legislative assembly soon after ',\n",
              " 'his administration is considered complicit in the      gujarat riots  d  and has been criticised for its management of the crisis ',\n",
              " 'according to official records  a little over       people were killed  three quarters of whom were muslim  independent sources estimated       deaths  mostly muslim ',\n",
              " '     a special investigation team appointed by the supreme court of india in      found no evidence to initiate prosecution proceedings against him ',\n",
              " ' e  while his policies as chief minister were credited for encouraging economic growth   his administration was criticised for failing to significantly improve health  poverty and education indices in the state ',\n",
              " ' f ']"
            ]
          },
          "metadata": {},
          "execution_count": 29
        }
      ]
    },
    {
      "cell_type": "code",
      "source": [
        "import nltk\n",
        "nltk.download('stopwords')\n",
        "stopwords.words('english')"
      ],
      "metadata": {
        "colab": {
          "base_uri": "https://localhost:8080/"
        },
        "id": "KqzwSDLaoumx",
        "outputId": "4b8d47fe-74e6-42cd-d048-cd416c652d84"
      },
      "execution_count": 32,
      "outputs": [
        {
          "output_type": "stream",
          "name": "stderr",
          "text": [
            "[nltk_data] Downloading package stopwords to /root/nltk_data...\n",
            "[nltk_data]   Unzipping corpora/stopwords.zip.\n"
          ]
        },
        {
          "output_type": "execute_result",
          "data": {
            "text/plain": [
              "['a',\n",
              " 'about',\n",
              " 'above',\n",
              " 'after',\n",
              " 'again',\n",
              " 'against',\n",
              " 'ain',\n",
              " 'all',\n",
              " 'am',\n",
              " 'an',\n",
              " 'and',\n",
              " 'any',\n",
              " 'are',\n",
              " 'aren',\n",
              " \"aren't\",\n",
              " 'as',\n",
              " 'at',\n",
              " 'be',\n",
              " 'because',\n",
              " 'been',\n",
              " 'before',\n",
              " 'being',\n",
              " 'below',\n",
              " 'between',\n",
              " 'both',\n",
              " 'but',\n",
              " 'by',\n",
              " 'can',\n",
              " 'couldn',\n",
              " \"couldn't\",\n",
              " 'd',\n",
              " 'did',\n",
              " 'didn',\n",
              " \"didn't\",\n",
              " 'do',\n",
              " 'does',\n",
              " 'doesn',\n",
              " \"doesn't\",\n",
              " 'doing',\n",
              " 'don',\n",
              " \"don't\",\n",
              " 'down',\n",
              " 'during',\n",
              " 'each',\n",
              " 'few',\n",
              " 'for',\n",
              " 'from',\n",
              " 'further',\n",
              " 'had',\n",
              " 'hadn',\n",
              " \"hadn't\",\n",
              " 'has',\n",
              " 'hasn',\n",
              " \"hasn't\",\n",
              " 'have',\n",
              " 'haven',\n",
              " \"haven't\",\n",
              " 'having',\n",
              " 'he',\n",
              " \"he'd\",\n",
              " \"he'll\",\n",
              " 'her',\n",
              " 'here',\n",
              " 'hers',\n",
              " 'herself',\n",
              " \"he's\",\n",
              " 'him',\n",
              " 'himself',\n",
              " 'his',\n",
              " 'how',\n",
              " 'i',\n",
              " \"i'd\",\n",
              " 'if',\n",
              " \"i'll\",\n",
              " \"i'm\",\n",
              " 'in',\n",
              " 'into',\n",
              " 'is',\n",
              " 'isn',\n",
              " \"isn't\",\n",
              " 'it',\n",
              " \"it'd\",\n",
              " \"it'll\",\n",
              " \"it's\",\n",
              " 'its',\n",
              " 'itself',\n",
              " \"i've\",\n",
              " 'just',\n",
              " 'll',\n",
              " 'm',\n",
              " 'ma',\n",
              " 'me',\n",
              " 'mightn',\n",
              " \"mightn't\",\n",
              " 'more',\n",
              " 'most',\n",
              " 'mustn',\n",
              " \"mustn't\",\n",
              " 'my',\n",
              " 'myself',\n",
              " 'needn',\n",
              " \"needn't\",\n",
              " 'no',\n",
              " 'nor',\n",
              " 'not',\n",
              " 'now',\n",
              " 'o',\n",
              " 'of',\n",
              " 'off',\n",
              " 'on',\n",
              " 'once',\n",
              " 'only',\n",
              " 'or',\n",
              " 'other',\n",
              " 'our',\n",
              " 'ours',\n",
              " 'ourselves',\n",
              " 'out',\n",
              " 'over',\n",
              " 'own',\n",
              " 're',\n",
              " 's',\n",
              " 'same',\n",
              " 'shan',\n",
              " \"shan't\",\n",
              " 'she',\n",
              " \"she'd\",\n",
              " \"she'll\",\n",
              " \"she's\",\n",
              " 'should',\n",
              " 'shouldn',\n",
              " \"shouldn't\",\n",
              " \"should've\",\n",
              " 'so',\n",
              " 'some',\n",
              " 'such',\n",
              " 't',\n",
              " 'than',\n",
              " 'that',\n",
              " \"that'll\",\n",
              " 'the',\n",
              " 'their',\n",
              " 'theirs',\n",
              " 'them',\n",
              " 'themselves',\n",
              " 'then',\n",
              " 'there',\n",
              " 'these',\n",
              " 'they',\n",
              " \"they'd\",\n",
              " \"they'll\",\n",
              " \"they're\",\n",
              " \"they've\",\n",
              " 'this',\n",
              " 'those',\n",
              " 'through',\n",
              " 'to',\n",
              " 'too',\n",
              " 'under',\n",
              " 'until',\n",
              " 'up',\n",
              " 've',\n",
              " 'very',\n",
              " 'was',\n",
              " 'wasn',\n",
              " \"wasn't\",\n",
              " 'we',\n",
              " \"we'd\",\n",
              " \"we'll\",\n",
              " \"we're\",\n",
              " 'were',\n",
              " 'weren',\n",
              " \"weren't\",\n",
              " \"we've\",\n",
              " 'what',\n",
              " 'when',\n",
              " 'where',\n",
              " 'which',\n",
              " 'while',\n",
              " 'who',\n",
              " 'whom',\n",
              " 'why',\n",
              " 'will',\n",
              " 'with',\n",
              " 'won',\n",
              " \"won't\",\n",
              " 'wouldn',\n",
              " \"wouldn't\",\n",
              " 'y',\n",
              " 'you',\n",
              " \"you'd\",\n",
              " \"you'll\",\n",
              " 'your',\n",
              " \"you're\",\n",
              " 'yours',\n",
              " 'yourself',\n",
              " 'yourselves',\n",
              " \"you've\"]"
            ]
          },
          "metadata": {},
          "execution_count": 32
        }
      ]
    },
    {
      "cell_type": "code",
      "source": [
        "## stemming\n",
        "\n",
        "for i in corpus:\n",
        "  words=nltk.word_tokenize(i)\n",
        "  for word in words:\n",
        "    if word not in set(stopwords.words('english')):\n",
        "      print(stemmer.stem(word))"
      ],
      "metadata": {
        "colab": {
          "base_uri": "https://localhost:8080/"
        },
        "id": "crLdZbKtoUk6",
        "outputId": "e1b277ab-e5eb-4248-f1d5-4c4827e14074"
      },
      "execution_count": 33,
      "outputs": [
        {
          "output_type": "stream",
          "name": "stdout",
          "text": [
            "narendra\n",
            "damodarda\n",
            "modi\n",
            "born\n",
            "septemb\n",
            "b\n",
            "indian\n",
            "politician\n",
            "serv\n",
            "prime\n",
            "minist\n",
            "india\n",
            "sinc\n",
            "modi\n",
            "chief\n",
            "minist\n",
            "gujarat\n",
            "member\n",
            "parliament\n",
            "mp\n",
            "varanasi\n",
            "member\n",
            "bharatiya\n",
            "janata\n",
            "parti\n",
            "bjp\n",
            "rashtriya\n",
            "swayamsevak\n",
            "sangh\n",
            "rss\n",
            "far\n",
            "right\n",
            "hindu\n",
            "nationalist\n",
            "paramilitari\n",
            "volunt\n",
            "organis\n",
            "longest\n",
            "serv\n",
            "prime\n",
            "minist\n",
            "outsid\n",
            "indian\n",
            "nation\n",
            "congress\n",
            "modi\n",
            "born\n",
            "rais\n",
            "vadnagar\n",
            "northeastern\n",
            "gujarat\n",
            "complet\n",
            "secondari\n",
            "educ\n",
            "introduc\n",
            "rss\n",
            "age\n",
            "eight\n",
            "age\n",
            "marri\n",
            "jashodaben\n",
            "modi\n",
            "abandon\n",
            "soon\n",
            "publicli\n",
            "acknowledg\n",
            "four\n",
            "decad\n",
            "later\n",
            "legal\n",
            "requir\n",
            "modi\n",
            "becam\n",
            "full\n",
            "time\n",
            "worker\n",
            "rss\n",
            "gujarat\n",
            "rss\n",
            "assign\n",
            "bjp\n",
            "rose\n",
            "parti\n",
            "hierarchi\n",
            "becom\n",
            "gener\n",
            "secretari\n",
            "c\n",
            "modi\n",
            "appoint\n",
            "chief\n",
            "minist\n",
            "gujarat\n",
            "elect\n",
            "legisl\n",
            "assembl\n",
            "soon\n",
            "administr\n",
            "consid\n",
            "complicit\n",
            "gujarat\n",
            "riot\n",
            "criticis\n",
            "manag\n",
            "crisi\n",
            "accord\n",
            "offici\n",
            "record\n",
            "littl\n",
            "peopl\n",
            "kill\n",
            "three\n",
            "quarter\n",
            "muslim\n",
            "independ\n",
            "sourc\n",
            "estim\n",
            "death\n",
            "mostli\n",
            "muslim\n",
            "special\n",
            "investig\n",
            "team\n",
            "appoint\n",
            "suprem\n",
            "court\n",
            "india\n",
            "found\n",
            "evid\n",
            "initi\n",
            "prosecut\n",
            "proceed\n",
            "e\n",
            "polici\n",
            "chief\n",
            "minist\n",
            "credit\n",
            "encourag\n",
            "econom\n",
            "growth\n",
            "administr\n",
            "criticis\n",
            "fail\n",
            "significantli\n",
            "improv\n",
            "health\n",
            "poverti\n",
            "educ\n",
            "indic\n",
            "state\n",
            "f\n"
          ]
        }
      ]
    },
    {
      "cell_type": "code",
      "source": [
        "#lemmatization\n",
        "for i in corpus:\n",
        "  words=nltk.word_tokenize(i)\n",
        "  for word in words:\n",
        "    if word not in set(stopwords.words('english')):\n",
        "      print(lemmatizer.lemmatize(word))"
      ],
      "metadata": {
        "colab": {
          "base_uri": "https://localhost:8080/"
        },
        "id": "QkcYYH18pP12",
        "outputId": "db0b0c15-2bb8-4aec-dbbe-ab02c33a4173"
      },
      "execution_count": 34,
      "outputs": [
        {
          "output_type": "stream",
          "name": "stdout",
          "text": [
            "narendra\n",
            "damodardas\n",
            "modi\n",
            "born\n",
            "september\n",
            "b\n",
            "indian\n",
            "politician\n",
            "served\n",
            "prime\n",
            "minister\n",
            "india\n",
            "since\n",
            "modi\n",
            "chief\n",
            "minister\n",
            "gujarat\n",
            "member\n",
            "parliament\n",
            "mp\n",
            "varanasi\n",
            "member\n",
            "bharatiya\n",
            "janata\n",
            "party\n",
            "bjp\n",
            "rashtriya\n",
            "swayamsevak\n",
            "sangh\n",
            "rss\n",
            "far\n",
            "right\n",
            "hindu\n",
            "nationalist\n",
            "paramilitary\n",
            "volunteer\n",
            "organisation\n",
            "longest\n",
            "serving\n",
            "prime\n",
            "minister\n",
            "outside\n",
            "indian\n",
            "national\n",
            "congress\n",
            "modi\n",
            "born\n",
            "raised\n",
            "vadnagar\n",
            "northeastern\n",
            "gujarat\n",
            "completed\n",
            "secondary\n",
            "education\n",
            "introduced\n",
            "rss\n",
            "age\n",
            "eight\n",
            "age\n",
            "married\n",
            "jashodaben\n",
            "modi\n",
            "abandoned\n",
            "soon\n",
            "publicly\n",
            "acknowledging\n",
            "four\n",
            "decade\n",
            "later\n",
            "legally\n",
            "required\n",
            "modi\n",
            "became\n",
            "full\n",
            "time\n",
            "worker\n",
            "rss\n",
            "gujarat\n",
            "rss\n",
            "assigned\n",
            "bjp\n",
            "rose\n",
            "party\n",
            "hierarchy\n",
            "becoming\n",
            "general\n",
            "secretary\n",
            "c\n",
            "modi\n",
            "appointed\n",
            "chief\n",
            "minister\n",
            "gujarat\n",
            "elected\n",
            "legislative\n",
            "assembly\n",
            "soon\n",
            "administration\n",
            "considered\n",
            "complicit\n",
            "gujarat\n",
            "riot\n",
            "criticised\n",
            "management\n",
            "crisis\n",
            "according\n",
            "official\n",
            "record\n",
            "little\n",
            "people\n",
            "killed\n",
            "three\n",
            "quarter\n",
            "muslim\n",
            "independent\n",
            "source\n",
            "estimated\n",
            "death\n",
            "mostly\n",
            "muslim\n",
            "special\n",
            "investigation\n",
            "team\n",
            "appointed\n",
            "supreme\n",
            "court\n",
            "india\n",
            "found\n",
            "evidence\n",
            "initiate\n",
            "prosecution\n",
            "proceeding\n",
            "e\n",
            "policy\n",
            "chief\n",
            "minister\n",
            "credited\n",
            "encouraging\n",
            "economic\n",
            "growth\n",
            "administration\n",
            "criticised\n",
            "failing\n",
            "significantly\n",
            "improve\n",
            "health\n",
            "poverty\n",
            "education\n",
            "index\n",
            "state\n",
            "f\n"
          ]
        }
      ]
    },
    {
      "cell_type": "code",
      "source": [
        "from sklearn.feature_extraction.text import CountVectorizer\n",
        "cv=CountVectorizer()\n",
        "x=cv.fit_transform(corpus).toarray()"
      ],
      "metadata": {
        "id": "AzHVRMJJr7ge"
      },
      "execution_count": 43,
      "outputs": []
    },
    {
      "cell_type": "code",
      "source": [
        "## Apply stopwords lemmatization\n",
        "import re\n",
        "corpus=[]\n",
        "for i in range(len(sentences)):\n",
        "  review=re.sub('[^a-zA]',' ',sentences[i])\n",
        "  review=review.lower()\n",
        "  review=review.split()\n",
        "  review=[lemmatizer.lemmatize(word) for word in review if not word in set(stopwords.words('english'))]\n",
        "  review=' '.join(review)\n",
        "  corpus.append(review)"
      ],
      "metadata": {
        "id": "0hXcBjMxttqD"
      },
      "execution_count": 50,
      "outputs": []
    },
    {
      "cell_type": "code",
      "source": [
        "cv.vocabulary_"
      ],
      "metadata": {
        "colab": {
          "base_uri": "https://localhost:8080/"
        },
        "id": "tnQ3RiSosHar",
        "outputId": "43e8cd5d-d57c-492b-a252-c31ce2b87c2f"
      },
      "execution_count": 51,
      "outputs": [
        {
          "output_type": "execute_result",
          "data": {
            "text/plain": [
              "{'narendra': 86,\n",
              " 'damodardas': 30,\n",
              " 'modi': 82,\n",
              " 'born': 19,\n",
              " 'september': 120,\n",
              " 'is': 68,\n",
              " 'an': 7,\n",
              " 'indian': 63,\n",
              " 'politician': 102,\n",
              " 'who': 146,\n",
              " 'has': 51,\n",
              " 'served': 121,\n",
              " 'as': 10,\n",
              " 'the': 133,\n",
              " 'prime': 104,\n",
              " 'minister': 81,\n",
              " 'of': 91,\n",
              " 'india': 62,\n",
              " 'since': 124,\n",
              " 'was': 141,\n",
              " 'chief': 21,\n",
              " 'gujarat': 50,\n",
              " 'from': 46,\n",
              " 'to': 137,\n",
              " 'and': 8,\n",
              " 'member': 80,\n",
              " 'parliament': 98,\n",
              " 'mp': 84,\n",
              " 'for': 43,\n",
              " 'varanasi': 139,\n",
              " 'he': 52,\n",
              " 'bharatiya': 17,\n",
              " 'janata': 70,\n",
              " 'party': 99,\n",
              " 'bjp': 18,\n",
              " 'rashtriya': 110,\n",
              " 'swayamsevak': 131,\n",
              " 'sangh': 117,\n",
              " 'rss': 116,\n",
              " 'far': 42,\n",
              " 'right': 113,\n",
              " 'hindu': 57,\n",
              " 'nationalist': 88,\n",
              " 'paramilitary': 97,\n",
              " 'volunteer': 140,\n",
              " 'organisation': 94,\n",
              " 'longest': 77,\n",
              " 'serving': 122,\n",
              " 'outside': 95,\n",
              " 'national': 87,\n",
              " 'congress': 24,\n",
              " 'raised': 109,\n",
              " 'in': 60,\n",
              " 'vadnagar': 138,\n",
              " 'northeastern': 90,\n",
              " 'where': 144,\n",
              " 'completed': 22,\n",
              " 'his': 58,\n",
              " 'secondary': 118,\n",
              " 'education': 35,\n",
              " 'introduced': 66,\n",
              " 'at': 13,\n",
              " 'age': 6,\n",
              " 'eight': 36,\n",
              " 'married': 79,\n",
              " 'jashodaben': 71,\n",
              " 'whom': 147,\n",
              " 'abandoned': 0,\n",
              " 'soon': 126,\n",
              " 'after': 4,\n",
              " 'only': 93,\n",
              " 'publicly': 107,\n",
              " 'acknowledging': 2,\n",
              " 'her': 54,\n",
              " 'four': 45,\n",
              " 'decades': 32,\n",
              " 'later': 73,\n",
              " 'when': 143,\n",
              " 'legally': 74,\n",
              " 'required': 112,\n",
              " 'do': 33,\n",
              " 'so': 125,\n",
              " 'became': 14,\n",
              " 'full': 47,\n",
              " 'time': 136,\n",
              " 'worker': 148,\n",
              " 'assigned': 12,\n",
              " 'him': 56,\n",
              " 'rose': 115,\n",
              " 'through': 135,\n",
              " 'hierarchy': 55,\n",
              " 'becoming': 15,\n",
              " 'general': 48,\n",
              " 'secretary': 119,\n",
              " 'appointed': 9,\n",
              " 'elected': 37,\n",
              " 'legislative': 75,\n",
              " 'assembly': 11,\n",
              " 'administration': 3,\n",
              " 'considered': 25,\n",
              " 'complicit': 23,\n",
              " 'riots': 114,\n",
              " 'been': 16,\n",
              " 'criticised': 29,\n",
              " 'its': 69,\n",
              " 'management': 78,\n",
              " 'crisis': 28,\n",
              " 'according': 1,\n",
              " 'official': 92,\n",
              " 'records': 111,\n",
              " 'little': 76,\n",
              " 'over': 96,\n",
              " 'people': 100,\n",
              " 'were': 142,\n",
              " 'killed': 72,\n",
              " 'three': 134,\n",
              " 'quarters': 108,\n",
              " 'muslim': 85,\n",
              " 'independent': 61,\n",
              " 'sources': 127,\n",
              " 'estimated': 39,\n",
              " 'deaths': 31,\n",
              " 'mostly': 83,\n",
              " 'special': 128,\n",
              " 'investigation': 67,\n",
              " 'team': 132,\n",
              " 'by': 20,\n",
              " 'supreme': 130,\n",
              " 'court': 26,\n",
              " 'found': 44,\n",
              " 'no': 89,\n",
              " 'evidence': 40,\n",
              " 'initiate': 65,\n",
              " 'prosecution': 106,\n",
              " 'proceedings': 105,\n",
              " 'against': 5,\n",
              " 'while': 145,\n",
              " 'policies': 101,\n",
              " 'credited': 27,\n",
              " 'encouraging': 38,\n",
              " 'economic': 34,\n",
              " 'growth': 49,\n",
              " 'failing': 41,\n",
              " 'significantly': 123,\n",
              " 'improve': 59,\n",
              " 'health': 53,\n",
              " 'poverty': 103,\n",
              " 'indices': 64,\n",
              " 'state': 129}"
            ]
          },
          "metadata": {},
          "execution_count": 51
        }
      ]
    },
    {
      "cell_type": "code",
      "source": [
        "corpus[0]"
      ],
      "metadata": {
        "colab": {
          "base_uri": "https://localhost:8080/",
          "height": 35
        },
        "id": "6oYm-hOlsOz4",
        "outputId": "8b82254b-7225-47e8-c8a2-7c89c58a364d"
      },
      "execution_count": 52,
      "outputs": [
        {
          "output_type": "execute_result",
          "data": {
            "text/plain": [
              "'arendra amodardas odi born eptember b ndian politician served prime minister ndia since'"
            ],
            "application/vnd.google.colaboratory.intrinsic+json": {
              "type": "string"
            }
          },
          "metadata": {},
          "execution_count": 52
        }
      ]
    },
    {
      "cell_type": "code",
      "source": [
        "x[0]"
      ],
      "metadata": {
        "colab": {
          "base_uri": "https://localhost:8080/"
        },
        "id": "HhAcqpuAsWzN",
        "outputId": "cdc6d1c4-92e5-4b2e-c261-91e6095cb34a"
      },
      "execution_count": 54,
      "outputs": [
        {
          "output_type": "execute_result",
          "data": {
            "text/plain": [
              "array([0, 0, 0, 0, 0, 0, 0, 1, 0, 0, 1, 0, 0, 0, 0, 0, 0, 0, 0, 1, 0, 0,\n",
              "       0, 0, 0, 0, 0, 0, 0, 0, 1, 0, 0, 0, 0, 0, 0, 0, 0, 0, 0, 0, 0, 0,\n",
              "       0, 0, 0, 0, 0, 0, 0, 1, 0, 0, 0, 0, 0, 0, 0, 0, 0, 0, 1, 1, 0, 0,\n",
              "       0, 0, 1, 0, 0, 0, 0, 0, 0, 0, 0, 0, 0, 0, 0, 1, 1, 0, 0, 0, 1, 0,\n",
              "       0, 0, 0, 1, 0, 0, 0, 0, 0, 0, 0, 0, 0, 0, 1, 0, 1, 0, 0, 0, 0, 0,\n",
              "       0, 0, 0, 0, 0, 0, 0, 0, 0, 0, 1, 1, 0, 0, 1, 0, 0, 0, 0, 0, 0, 0,\n",
              "       0, 1, 0, 0, 0, 0, 0, 0, 0, 0, 0, 0, 0, 0, 1, 0, 0])"
            ]
          },
          "metadata": {},
          "execution_count": 54
        }
      ]
    }
  ]
}